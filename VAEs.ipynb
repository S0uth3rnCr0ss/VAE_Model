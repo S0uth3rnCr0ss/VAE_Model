{
  "nbformat": 4,
  "nbformat_minor": 0,
  "metadata": {
    "colab": {
      "provenance": []
    },
    "kernelspec": {
      "name": "python3",
      "display_name": "Python 3"
    },
    "language_info": {
      "name": "python"
    }
  },
  "cells": [
    {
      "cell_type": "markdown",
      "source": [
        "\n",
        "# Variational Auto-Encoders\n",
        "---\n",
        "\n"
      ],
      "metadata": {
        "id": "5ajmhDuHRxvz"
      }
    },
    {
      "cell_type": "code",
      "execution_count": null,
      "metadata": {
        "colab": {
          "base_uri": "https://localhost:8080/"
        },
        "id": "MHmwsnDwRoK_",
        "outputId": "a95ab2a8-3a4a-4bbf-ef14-cd17af8615dd"
      },
      "outputs": [
        {
          "output_type": "stream",
          "name": "stdout",
          "text": [
            "Requirement already satisfied: torch in /usr/local/lib/python3.11/dist-packages (2.6.0+cu124)\n",
            "Requirement already satisfied: torchvision in /usr/local/lib/python3.11/dist-packages (0.21.0+cu124)\n",
            "Requirement already satisfied: matplotlib in /usr/local/lib/python3.11/dist-packages (3.10.0)\n",
            "Requirement already satisfied: numpy in /usr/local/lib/python3.11/dist-packages (2.0.2)\n",
            "Requirement already satisfied: filelock in /usr/local/lib/python3.11/dist-packages (from torch) (3.17.0)\n",
            "Requirement already satisfied: typing-extensions>=4.10.0 in /usr/local/lib/python3.11/dist-packages (from torch) (4.12.2)\n",
            "Requirement already satisfied: networkx in /usr/local/lib/python3.11/dist-packages (from torch) (3.4.2)\n",
            "Requirement already satisfied: jinja2 in /usr/local/lib/python3.11/dist-packages (from torch) (3.1.6)\n",
            "Requirement already satisfied: fsspec in /usr/local/lib/python3.11/dist-packages (from torch) (2024.10.0)\n",
            "Collecting nvidia-cuda-nvrtc-cu12==12.4.127 (from torch)\n",
            "  Downloading nvidia_cuda_nvrtc_cu12-12.4.127-py3-none-manylinux2014_x86_64.whl.metadata (1.5 kB)\n",
            "Collecting nvidia-cuda-runtime-cu12==12.4.127 (from torch)\n",
            "  Downloading nvidia_cuda_runtime_cu12-12.4.127-py3-none-manylinux2014_x86_64.whl.metadata (1.5 kB)\n",
            "Collecting nvidia-cuda-cupti-cu12==12.4.127 (from torch)\n",
            "  Downloading nvidia_cuda_cupti_cu12-12.4.127-py3-none-manylinux2014_x86_64.whl.metadata (1.6 kB)\n",
            "Collecting nvidia-cudnn-cu12==9.1.0.70 (from torch)\n",
            "  Downloading nvidia_cudnn_cu12-9.1.0.70-py3-none-manylinux2014_x86_64.whl.metadata (1.6 kB)\n",
            "Collecting nvidia-cublas-cu12==12.4.5.8 (from torch)\n",
            "  Downloading nvidia_cublas_cu12-12.4.5.8-py3-none-manylinux2014_x86_64.whl.metadata (1.5 kB)\n",
            "Collecting nvidia-cufft-cu12==11.2.1.3 (from torch)\n",
            "  Downloading nvidia_cufft_cu12-11.2.1.3-py3-none-manylinux2014_x86_64.whl.metadata (1.5 kB)\n",
            "Collecting nvidia-curand-cu12==10.3.5.147 (from torch)\n",
            "  Downloading nvidia_curand_cu12-10.3.5.147-py3-none-manylinux2014_x86_64.whl.metadata (1.5 kB)\n",
            "Collecting nvidia-cusolver-cu12==11.6.1.9 (from torch)\n",
            "  Downloading nvidia_cusolver_cu12-11.6.1.9-py3-none-manylinux2014_x86_64.whl.metadata (1.6 kB)\n",
            "Collecting nvidia-cusparse-cu12==12.3.1.170 (from torch)\n",
            "  Downloading nvidia_cusparse_cu12-12.3.1.170-py3-none-manylinux2014_x86_64.whl.metadata (1.6 kB)\n",
            "Requirement already satisfied: nvidia-cusparselt-cu12==0.6.2 in /usr/local/lib/python3.11/dist-packages (from torch) (0.6.2)\n",
            "Requirement already satisfied: nvidia-nccl-cu12==2.21.5 in /usr/local/lib/python3.11/dist-packages (from torch) (2.21.5)\n",
            "Requirement already satisfied: nvidia-nvtx-cu12==12.4.127 in /usr/local/lib/python3.11/dist-packages (from torch) (12.4.127)\n",
            "Collecting nvidia-nvjitlink-cu12==12.4.127 (from torch)\n",
            "  Downloading nvidia_nvjitlink_cu12-12.4.127-py3-none-manylinux2014_x86_64.whl.metadata (1.5 kB)\n",
            "Requirement already satisfied: triton==3.2.0 in /usr/local/lib/python3.11/dist-packages (from torch) (3.2.0)\n",
            "Requirement already satisfied: sympy==1.13.1 in /usr/local/lib/python3.11/dist-packages (from torch) (1.13.1)\n",
            "Requirement already satisfied: mpmath<1.4,>=1.1.0 in /usr/local/lib/python3.11/dist-packages (from sympy==1.13.1->torch) (1.3.0)\n",
            "Requirement already satisfied: pillow!=8.3.*,>=5.3.0 in /usr/local/lib/python3.11/dist-packages (from torchvision) (11.1.0)\n",
            "Requirement already satisfied: contourpy>=1.0.1 in /usr/local/lib/python3.11/dist-packages (from matplotlib) (1.3.1)\n",
            "Requirement already satisfied: cycler>=0.10 in /usr/local/lib/python3.11/dist-packages (from matplotlib) (0.12.1)\n",
            "Requirement already satisfied: fonttools>=4.22.0 in /usr/local/lib/python3.11/dist-packages (from matplotlib) (4.56.0)\n",
            "Requirement already satisfied: kiwisolver>=1.3.1 in /usr/local/lib/python3.11/dist-packages (from matplotlib) (1.4.8)\n",
            "Requirement already satisfied: packaging>=20.0 in /usr/local/lib/python3.11/dist-packages (from matplotlib) (24.2)\n",
            "Requirement already satisfied: pyparsing>=2.3.1 in /usr/local/lib/python3.11/dist-packages (from matplotlib) (3.2.1)\n",
            "Requirement already satisfied: python-dateutil>=2.7 in /usr/local/lib/python3.11/dist-packages (from matplotlib) (2.8.2)\n",
            "Requirement already satisfied: six>=1.5 in /usr/local/lib/python3.11/dist-packages (from python-dateutil>=2.7->matplotlib) (1.17.0)\n",
            "Requirement already satisfied: MarkupSafe>=2.0 in /usr/local/lib/python3.11/dist-packages (from jinja2->torch) (3.0.2)\n",
            "Downloading nvidia_cublas_cu12-12.4.5.8-py3-none-manylinux2014_x86_64.whl (363.4 MB)\n",
            "\u001b[2K   \u001b[90m━━━━━━━━━━━━━━━━━━━━━━━━━━━━━━━━━━━━━━━━\u001b[0m \u001b[32m363.4/363.4 MB\u001b[0m \u001b[31m1.4 MB/s\u001b[0m eta \u001b[36m0:00:00\u001b[0m\n",
            "\u001b[?25hDownloading nvidia_cuda_cupti_cu12-12.4.127-py3-none-manylinux2014_x86_64.whl (13.8 MB)\n",
            "\u001b[2K   \u001b[90m━━━━━━━━━━━━━━━━━━━━━━━━━━━━━━━━━━━━━━━━\u001b[0m \u001b[32m13.8/13.8 MB\u001b[0m \u001b[31m49.1 MB/s\u001b[0m eta \u001b[36m0:00:00\u001b[0m\n",
            "\u001b[?25hDownloading nvidia_cuda_nvrtc_cu12-12.4.127-py3-none-manylinux2014_x86_64.whl (24.6 MB)\n",
            "\u001b[2K   \u001b[90m━━━━━━━━━━━━━━━━━━━━━━━━━━━━━━━━━━━━━━━━\u001b[0m \u001b[32m24.6/24.6 MB\u001b[0m \u001b[31m43.2 MB/s\u001b[0m eta \u001b[36m0:00:00\u001b[0m\n",
            "\u001b[?25hDownloading nvidia_cuda_runtime_cu12-12.4.127-py3-none-manylinux2014_x86_64.whl (883 kB)\n",
            "\u001b[2K   \u001b[90m━━━━━━━━━━━━━━━━━━━━━━━━━━━━━━━━━━━━━━━━\u001b[0m \u001b[32m883.7/883.7 kB\u001b[0m \u001b[31m13.3 MB/s\u001b[0m eta \u001b[36m0:00:00\u001b[0m\n",
            "\u001b[?25hDownloading nvidia_cudnn_cu12-9.1.0.70-py3-none-manylinux2014_x86_64.whl (664.8 MB)\n",
            "\u001b[2K   \u001b[90m━━━━━━━━━━━━━━━━━━━━━━━━━━━━━━━━━━━━━━━━\u001b[0m \u001b[32m664.8/664.8 MB\u001b[0m \u001b[31m2.0 MB/s\u001b[0m eta \u001b[36m0:00:00\u001b[0m\n",
            "\u001b[?25hDownloading nvidia_cufft_cu12-11.2.1.3-py3-none-manylinux2014_x86_64.whl (211.5 MB)\n",
            "\u001b[2K   \u001b[90m━━━━━━━━━━━━━━━━━━━━━━━━━━━━━━━━━━━━━━━━\u001b[0m \u001b[32m211.5/211.5 MB\u001b[0m \u001b[31m6.0 MB/s\u001b[0m eta \u001b[36m0:00:00\u001b[0m\n",
            "\u001b[?25hDownloading nvidia_curand_cu12-10.3.5.147-py3-none-manylinux2014_x86_64.whl (56.3 MB)\n",
            "\u001b[2K   \u001b[90m━━━━━━━━━━━━━━━━━━━━━━━━━━━━━━━━━━━━━━━━\u001b[0m \u001b[32m56.3/56.3 MB\u001b[0m \u001b[31m11.6 MB/s\u001b[0m eta \u001b[36m0:00:00\u001b[0m\n",
            "\u001b[?25hDownloading nvidia_cusolver_cu12-11.6.1.9-py3-none-manylinux2014_x86_64.whl (127.9 MB)\n",
            "\u001b[2K   \u001b[90m━━━━━━━━━━━━━━━━━━━━━━━━━━━━━━━━━━━━━━━━\u001b[0m \u001b[32m127.9/127.9 MB\u001b[0m \u001b[31m7.5 MB/s\u001b[0m eta \u001b[36m0:00:00\u001b[0m\n",
            "\u001b[?25hDownloading nvidia_cusparse_cu12-12.3.1.170-py3-none-manylinux2014_x86_64.whl (207.5 MB)\n",
            "\u001b[2K   \u001b[90m━━━━━━━━━━━━━━━━━━━━━━━━━━━━━━━━━━━━━━━━\u001b[0m \u001b[32m207.5/207.5 MB\u001b[0m \u001b[31m4.8 MB/s\u001b[0m eta \u001b[36m0:00:00\u001b[0m\n",
            "\u001b[?25hDownloading nvidia_nvjitlink_cu12-12.4.127-py3-none-manylinux2014_x86_64.whl (21.1 MB)\n",
            "\u001b[2K   \u001b[90m━━━━━━━━━━━━━━━━━━━━━━━━━━━━━━━━━━━━━━━━\u001b[0m \u001b[32m21.1/21.1 MB\u001b[0m \u001b[31m49.7 MB/s\u001b[0m eta \u001b[36m0:00:00\u001b[0m\n",
            "\u001b[?25hInstalling collected packages: nvidia-nvjitlink-cu12, nvidia-curand-cu12, nvidia-cufft-cu12, nvidia-cuda-runtime-cu12, nvidia-cuda-nvrtc-cu12, nvidia-cuda-cupti-cu12, nvidia-cublas-cu12, nvidia-cusparse-cu12, nvidia-cudnn-cu12, nvidia-cusolver-cu12\n",
            "  Attempting uninstall: nvidia-nvjitlink-cu12\n",
            "    Found existing installation: nvidia-nvjitlink-cu12 12.5.82\n",
            "    Uninstalling nvidia-nvjitlink-cu12-12.5.82:\n",
            "      Successfully uninstalled nvidia-nvjitlink-cu12-12.5.82\n",
            "  Attempting uninstall: nvidia-curand-cu12\n",
            "    Found existing installation: nvidia-curand-cu12 10.3.6.82\n",
            "    Uninstalling nvidia-curand-cu12-10.3.6.82:\n",
            "      Successfully uninstalled nvidia-curand-cu12-10.3.6.82\n",
            "  Attempting uninstall: nvidia-cufft-cu12\n",
            "    Found existing installation: nvidia-cufft-cu12 11.2.3.61\n",
            "    Uninstalling nvidia-cufft-cu12-11.2.3.61:\n",
            "      Successfully uninstalled nvidia-cufft-cu12-11.2.3.61\n",
            "  Attempting uninstall: nvidia-cuda-runtime-cu12\n",
            "    Found existing installation: nvidia-cuda-runtime-cu12 12.5.82\n",
            "    Uninstalling nvidia-cuda-runtime-cu12-12.5.82:\n",
            "      Successfully uninstalled nvidia-cuda-runtime-cu12-12.5.82\n",
            "  Attempting uninstall: nvidia-cuda-nvrtc-cu12\n",
            "    Found existing installation: nvidia-cuda-nvrtc-cu12 12.5.82\n",
            "    Uninstalling nvidia-cuda-nvrtc-cu12-12.5.82:\n",
            "      Successfully uninstalled nvidia-cuda-nvrtc-cu12-12.5.82\n",
            "  Attempting uninstall: nvidia-cuda-cupti-cu12\n",
            "    Found existing installation: nvidia-cuda-cupti-cu12 12.5.82\n",
            "    Uninstalling nvidia-cuda-cupti-cu12-12.5.82:\n",
            "      Successfully uninstalled nvidia-cuda-cupti-cu12-12.5.82\n",
            "  Attempting uninstall: nvidia-cublas-cu12\n",
            "    Found existing installation: nvidia-cublas-cu12 12.5.3.2\n",
            "    Uninstalling nvidia-cublas-cu12-12.5.3.2:\n",
            "      Successfully uninstalled nvidia-cublas-cu12-12.5.3.2\n",
            "  Attempting uninstall: nvidia-cusparse-cu12\n",
            "    Found existing installation: nvidia-cusparse-cu12 12.5.1.3\n",
            "    Uninstalling nvidia-cusparse-cu12-12.5.1.3:\n",
            "      Successfully uninstalled nvidia-cusparse-cu12-12.5.1.3\n",
            "  Attempting uninstall: nvidia-cudnn-cu12\n",
            "    Found existing installation: nvidia-cudnn-cu12 9.3.0.75\n",
            "    Uninstalling nvidia-cudnn-cu12-9.3.0.75:\n",
            "      Successfully uninstalled nvidia-cudnn-cu12-9.3.0.75\n",
            "  Attempting uninstall: nvidia-cusolver-cu12\n",
            "    Found existing installation: nvidia-cusolver-cu12 11.6.3.83\n",
            "    Uninstalling nvidia-cusolver-cu12-11.6.3.83:\n",
            "      Successfully uninstalled nvidia-cusolver-cu12-11.6.3.83\n",
            "Successfully installed nvidia-cublas-cu12-12.4.5.8 nvidia-cuda-cupti-cu12-12.4.127 nvidia-cuda-nvrtc-cu12-12.4.127 nvidia-cuda-runtime-cu12-12.4.127 nvidia-cudnn-cu12-9.1.0.70 nvidia-cufft-cu12-11.2.1.3 nvidia-curand-cu12-10.3.5.147 nvidia-cusolver-cu12-11.6.1.9 nvidia-cusparse-cu12-12.3.1.170 nvidia-nvjitlink-cu12-12.4.127\n"
          ]
        }
      ],
      "source": [
        "!pip install torch torchvision matplotlib numpy"
      ]
    },
    {
      "cell_type": "code",
      "source": [
        "import torch\n",
        "import torch.nn as nn\n",
        "import torch.optim as optim\n",
        "from torchvision import datasets, transforms\n",
        "import numpy as np\n",
        "from torch.utils.data import dataloader\n",
        "import matplotlib.pyplot as plt\n"
      ],
      "metadata": {
        "id": "FzR-GpeMSJDY"
      },
      "execution_count": null,
      "outputs": []
    },
    {
      "cell_type": "code",
      "source": [
        "# Defining the  Encoder.\n",
        "\n",
        "class Encoder(nn.Module):\n",
        "  def __init__(self,input_dim, hidden_dim, latent_dim):\n",
        "    \"\"\"\"\n",
        "    Initialize the Encoder class\n",
        "\n",
        "    Args:\n",
        "\n",
        "    input_dim: dimension of the input data\n",
        "    hidden_dim: dimension of the hidden layer\n",
        "    latent_dim: dimension of the latent space\n",
        "\n",
        "    \"\"\"\n",
        "\n",
        "    super(Encoder,self).__init__()\n",
        "\n",
        "    # Define the fully connected Layers\n",
        "    self.fc1 = nn.Linear(input_dim,hidden_dim)\n",
        "    self.fc_mu = nn.Linear(hidden_dim,latent_dim)\n",
        "    self.fc_logvar = nn.Linear(hidden_dim,latent_dim)\n",
        "\n",
        "\n",
        "  # Definr the forward pass through the encoder\n",
        "  def forward(self, X):\n",
        "\n",
        "    \"\"\"\n",
        "    Define the forward pass\n",
        "\n",
        "    Args:\n",
        "\n",
        "    X: input data\n",
        "\n",
        "    Returns:\n",
        "\n",
        "    mu: mean of the latent space\n",
        "    Logvar: log of the varia=ence of the latent space.\n",
        "\n",
        "    \"\"\"\n",
        "\n",
        "    # Apply ReLU function to the hidden layer\n",
        "\n",
        "    h = torch.relu(self.fc1(X))\n",
        "\n",
        "    # Calculate mu and Logvar\n",
        "    mu = torch.relu(self.fc_mu(h))\n",
        "    logvar = torch.relu(self.fc_logvar(h))\n",
        "\n",
        "    return mu, logvar\n",
        "\n",
        "\n"
      ],
      "metadata": {
        "id": "bszJ4dv8S-hy"
      },
      "execution_count": null,
      "outputs": []
    },
    {
      "cell_type": "code",
      "source": [
        "# Define the decoder class, which maps latent space.\n",
        "\n",
        "class Decoder(nn.Module):\n",
        "  def __init__(self, latent_dim, hidden_dim, output_dim):\n",
        "    \"\"\"\n",
        "    Initialize the decoder class\n",
        "\n",
        "    Args:\n",
        "    latent_dim: dimension of the latent space\n",
        "    hidden_dim: dimension of the hidden layer\n",
        "    output_dim: dimension of the output data\n",
        "\n",
        "    \"\"\"\n",
        "\n",
        "    super(Decoder, self).__init__()\n",
        "\n",
        "    # Define the fully connected layer for the decoder\n",
        "\n",
        "    self.fc1 = nn.Linear(latent_dim, hidden_dim)\n",
        "    self.fc2 = nn.Linear(hidden_dim, output_dim)\n",
        "\n",
        "  # Define the forward pass through the decoder\n",
        "\n",
        "  def forward(self, z):\n",
        "    \"\"\"\n",
        "    Define forward pass through the decoder\n",
        "\n",
        "    Args:\n",
        "    z: the latent space data.\n",
        "\n",
        "    Returns x_hat:\n",
        "    the reconstructed output data.\n",
        "    \"\"\"\n",
        "\n",
        "    # Apply relu activation to the hidden layer\n",
        "\n",
        "    h = torch.relu(self.fc1(z))\n",
        "\n",
        "    # Apply sigmoid to the output layer\n",
        "\n",
        "    x_hat = torch.sigmoid(self.fc2(h))\n",
        "\n",
        "    return x_hat\n"
      ],
      "metadata": {
        "id": "GdRPhNZLWK03"
      },
      "execution_count": null,
      "outputs": []
    },
    {
      "cell_type": "code",
      "source": [
        "# Define the VAE\n",
        "\n",
        "class VAE(nn.Module):\n",
        "  def __init__(self, input_dim, hidden_dim, latent_dim):\n",
        "    \"\"\"\n",
        "    Initialize the VAE class\n",
        "\n",
        "    Args:\n",
        "    input_dim: dimension of the input data\n",
        "    hidden_dim: dimension of the hidden layer\n",
        "    latent_dim: dimension of the latent space\n",
        "\n",
        "    \"\"\"\n",
        "    super(VAE,self).__init__()\n",
        "\n",
        "    # Define Encoder and Decoder instances\n",
        "    self.encoder = Encoder(input_dim, hidden_dim, latent_dim)\n",
        "    self.decoder = Decoder(latent_dim, hidden_dim, input_dim)\n",
        "\n",
        "  def forward(self,X):\n",
        "    \"\"\"\n",
        "    Define the forward pass through the VAE\n",
        "\n",
        "    Args:\n",
        "    X: input data\n",
        "\n",
        "    Returns:\n",
        "    x_hat: reconstructed output data\n",
        "    z: latent space data\n",
        "    mu: mean of the latent space\n",
        "    Logvar: log varience of the latent space.\n",
        "    \"\"\"\n",
        "\n",
        "    # Encode input to the latent space\n",
        "    mu, logvar = self.encoder(X)\n",
        "\n",
        "    # Sample from latent space using reparameterization trick\n",
        "    std = torch.exp(0.5*logvar)\n",
        "    eps = torch.rand_like(std)\n",
        "\n",
        "    z = mu + eps*std\n",
        "\n",
        "    # Decode latent space to output\n",
        "    x_hat = self.decoder(z)\n",
        "\n",
        "    return x_hat, mu, logvar\n",
        "\n"
      ],
      "metadata": {
        "id": "WUEqZwZAZGUq"
      },
      "execution_count": null,
      "outputs": []
    },
    {
      "cell_type": "code",
      "source": [
        "def loss_function(X, x_hat, mu, logvar):\n",
        "  \"\"\"\n",
        "  Define the loss function\n",
        "\n",
        "  Args:\n",
        "  x: input data\n",
        "  x_hat: reconstructed data\n",
        "  mu: mean of the latent distribution\n",
        "  logvar: Log of the varience of the latent space\n",
        "\n",
        "  Returns:\n",
        "  loss: the VAE loss\n",
        "  \"\"\"\n",
        "\n",
        "  # Claculate binary cross entropy loss\n",
        "  BCE = nn.functional.binary_cross_entropy(x_hat, X, reduction='sum')\n",
        "\n",
        "  #calculate KL divergence loss\n",
        "  KLD = -0.5*torch.sum(1+logvar - mu.pow(2)-logvar.exp())\n",
        "\n",
        "  return BCE+KLD"
      ],
      "metadata": {
        "id": "WOqjXrJma0AZ"
      },
      "execution_count": null,
      "outputs": []
    },
    {
      "cell_type": "code",
      "source": [
        "# Defining the dimensions\n",
        "\n",
        "input_dim = 784\n",
        "hidden_dim = 400\n",
        "latent_dim = 20\n",
        "lr = 1e-3\n",
        "batch_size = 128\n",
        "epochs = 10\n",
        "\n",
        "# Data loader\n",
        "transform  = transforms.Compose([transforms.ToTensor(), transforms.Lambda(lambda x: x.view(-1))])\n",
        "\n",
        "train_dataset = datasets.MNIST(root='./data', train=True, download=True, transform=transform)\n",
        "train_loader = dataloader.DataLoader(train_dataset, batch_size=batch_size, shuffle=True)"
      ],
      "metadata": {
        "id": "jePFanw3kmEL"
      },
      "execution_count": null,
      "outputs": []
    },
    {
      "cell_type": "code",
      "source": [
        "# model, optimizer\n",
        "vae = VAE(input_dim, hidden_dim, latent_dim)\n",
        "optimizer = optim.Adam(vae.parameters(), lr=lr)\n",
        "\n",
        "# Training loop\n",
        "for epoch in range(epochs):\n",
        "  train_loss=0\n",
        "  for x, _ in train_loader:\n",
        "    x = x.view(-1, input_dim)\n",
        "    optimizer.zero_grad()\n",
        "    x_hat, mu, logvar = vae(x)\n",
        "    loss = loss_function(x, x_hat, mu, logvar)\n",
        "    loss.backward()\n",
        "    train_loss += loss.item()\n",
        "    optimizer.step()\n",
        "\n",
        "  print(f\"Epoch {epoch+1}, Loss:{train_loss/len(train_loader.dataset)}\")"
      ],
      "metadata": {
        "colab": {
          "base_uri": "https://localhost:8080/"
        },
        "id": "69I6BDNAmFKH",
        "outputId": "a162bd60-ec24-4a82-a6c9-7846c611c63f"
      },
      "execution_count": null,
      "outputs": [
        {
          "output_type": "stream",
          "name": "stdout",
          "text": [
            "Epoch 1, Loss:160.2990142903646\n",
            "Epoch 2, Loss:126.9612905436198\n",
            "Epoch 3, Loss:121.56392386067708\n",
            "Epoch 4, Loss:118.15051604817708\n",
            "Epoch 5, Loss:115.74727210286459\n",
            "Epoch 6, Loss:114.00889308268229\n",
            "Epoch 7, Loss:112.66804793294271\n",
            "Epoch 8, Loss:111.66413876953125\n",
            "Epoch 9, Loss:110.9789473795573\n",
            "Epoch 10, Loss:110.39882068684896\n"
          ]
        }
      ]
    },
    {
      "cell_type": "markdown",
      "source": [
        "# Testing and Evaluation"
      ],
      "metadata": {
        "id": "Iu0PInrQyOk9"
      }
    },
    {
      "cell_type": "code",
      "source": [
        "vae.eval()\n",
        "\n",
        "# Reconstructing of the new data\n",
        "with torch.no_grad():\n",
        "  x, _ = next(iter(train_loader)) #(-1,784)\n",
        "\n",
        "  x = x.view(-1, input_dim)\n",
        "  x_hat, _, _ = vae(x)\n",
        "  x = x.view(-1,28,28)\n",
        "  x_hat = x_hat.view(-1,28,28) #(28,28)\n",
        "\n",
        "  fig, axs = plt.subplots(2,10, figsize=(15, 3))\n",
        "\n",
        "  for i in range(10):\n",
        "    axs[0,i].imshow(x[i].cpu().numpy(),cmap='gray')\n",
        "    axs[1,i].imshow(x_hat[i].cpu().numpy(),cmap='gray')\n",
        "    axs[0,i].axis('off')\n",
        "    axs[1,i].axis('off')\n",
        "\n",
        "  plt.show()\n",
        "\n",
        "\n",
        "# Visualizing new Generated data\n",
        "with torch.no_grad():\n",
        "  z = torch.randn(10, latent_dim)\n",
        "\n",
        "  sample = vae.decoder(z)\n",
        "  sample = sample.view(-1,28,28)\n",
        "\n",
        "  fig, axs = plt.subplots(1,10, figsize=(15,3))\n",
        "\n",
        "  for i in range(10):\n",
        "     axs[i].imshow(sample[i].cpu().numpy(),cmap='gray')\n",
        "     axs[i].axis('off')\n",
        "  plt.show()\n"
      ],
      "metadata": {
        "colab": {
          "base_uri": "https://localhost:8080/",
          "height": 379
        },
        "id": "Ynd6XRZ-tgiX",
        "outputId": "10203281-8084-40ae-d477-5b3579a5da7b"
      },
      "execution_count": null,
      "outputs": [
        {
          "output_type": "display_data",
          "data": {
            "text/plain": [
              "<Figure size 1500x300 with 20 Axes>"
            ],
            "image/png": "[encoded data removed]"
          },
          "metadata": {}
        },
        {
          "output_type": "display_data",
          "data": {
            "text/plain": [
              "<Figure size 1500x300 with 10 Axes>"
            ],
            "image/png": "[encoded data removed]"
          },
          "metadata": {}
        }
      ]
    },
    {
      "cell_type": "code",
      "source": [],
      "metadata": {
        "id": "-6rDU-dY0X_s"
      },
      "execution_count": null,
      "outputs": []
    }
  ]
}